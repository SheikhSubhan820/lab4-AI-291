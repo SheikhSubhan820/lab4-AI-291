{
 "cells": [
  {
   "cell_type": "code",
   "execution_count": 1,
   "id": "d251e192-f5fc-473c-8d37-f4b0b55df58c",
   "metadata": {},
   "outputs": [
    {
     "name": "stdout",
     "output_type": "stream",
     "text": [
      "Predicted Labels: [0 1 0 1 1]\n",
      "\n",
      "Confusion Matrix:\n",
      "[[1 1]\n",
      " [1 2]]\n",
      "\n",
      "Accuracy: 0.6\n"
     ]
    }
   ],
   "source": [
    "import numpy as np\n",
    "from sklearn.model_selection import train_test_split\n",
    "from sklearn.naive_bayes import GaussianNB\n",
    "from sklearn.preprocessing import LabelEncoder\n",
    "from sklearn.metrics import confusion_matrix, accuracy_score\n",
    "from sklearn import preprocessing\n",
    "\n",
    "# Data for weather, temperature, and play\n",
    "weather = [\n",
    "    \"Sunny\", \"Sunny\", \"Overcast\", \"Rainy\", \"Rainy\", \"Rainy\", \"Overcast\", \n",
    "    \"Sunny\", \"Sunny\", \"Rainy\", \"Sunny\", \"Overcast\", \"Overcast\", \"Rainy\"\n",
    "]\n",
    "\n",
    "temperature = [\n",
    "    \"Hot\", \"Hot\", \"Hot\", \"Mild\", \"Cool\", \"Cool\", \"Cool\", \n",
    "    \"Mild\", \"Cool\", \"Mild\", \"Mild\", \"Mild\", \"Hot\", \"Mild\"\n",
    "]\n",
    "\n",
    "play = [\n",
    "    \"No\", \"No\", \"Yes\", \"Yes\", \"Yes\", \"No\", \"Yes\", \n",
    "    \"No\", \"Yes\", \"Yes\", \"Yes\", \"Yes\", \"Yes\", \"No\"\n",
    "]\n",
    "\n",
    "# Initialize LabelEncoder\n",
    "le_weather = preprocessing.LabelEncoder()\n",
    "le_temperature = preprocessing.LabelEncoder()\n",
    "le_play = preprocessing.LabelEncoder()\n",
    "\n",
    "# Encode the labels\n",
    "weather_encoded = le_weather.fit_transform(weather)\n",
    "temperature_encoded = le_temperature.fit_transform(temperature)\n",
    "play_encoded = le_play.fit_transform(play)\n",
    "\n",
    "# Prepare features (weather, temperature) and labels (play)\n",
    "features = list(zip(weather_encoded, temperature_encoded))\n",
    "\n",
    "# Split data into training and testing sets (70% train, 30% test)\n",
    "features_train, features_test, label_train, label_test = train_test_split(\n",
    "    features, play_encoded, test_size=0.3, random_state=42\n",
    ")\n",
    "\n",
    "# Initialize the Naive Bayes model\n",
    "model = GaussianNB()\n",
    "\n",
    "# Train the model\n",
    "model.fit(features_train, label_train)\n",
    "\n",
    "# Make predictions\n",
    "predicted = model.predict(features_test)\n",
    "\n",
    "# Output predictions\n",
    "print(\"Predicted Labels:\", predicted)\n",
    "\n",
    "# Confusion Matrix\n",
    "conf_mat = confusion_matrix(label_test, predicted)\n",
    "print(\"\\nConfusion Matrix:\")\n",
    "print(conf_mat)\n",
    "\n",
    "# Accuracy Score\n",
    "accuracy = accuracy_score(label_test, predicted)\n",
    "print(\"\\nAccuracy:\", accuracy)\n"
   ]
  },
  {
   "cell_type": "code",
   "execution_count": null,
   "id": "075a2938-24a3-4af4-acd6-66fdf3f988c5",
   "metadata": {},
   "outputs": [],
   "source": []
  }
 ],
 "metadata": {
  "kernelspec": {
   "display_name": "Python 3 (ipykernel)",
   "language": "python",
   "name": "python3"
  },
  "language_info": {
   "codemirror_mode": {
    "name": "ipython",
    "version": 3
   },
   "file_extension": ".py",
   "mimetype": "text/x-python",
   "name": "python",
   "nbconvert_exporter": "python",
   "pygments_lexer": "ipython3",
   "version": "3.12.7"
  }
 },
 "nbformat": 4,
 "nbformat_minor": 5
}
