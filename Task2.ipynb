{
 "cells": [
  {
   "cell_type": "code",
   "execution_count": 1,
   "id": "0ebfc91d-afde-4495-b0c3-fd902014b898",
   "metadata": {},
   "outputs": [
    {
     "name": "stdout",
     "output_type": "stream",
     "text": [
      "Prediction: [1 1 0]\n",
      "\n",
      "Confusion Matrix:\n",
      "[[1 0]\n",
      " [0 2]]\n",
      "\n",
      "Accuracy: 1.0\n"
     ]
    }
   ],
   "source": [
    "import numpy as np\n",
    "from sklearn.model_selection import train_test_split\n",
    "from sklearn.naive_bayes import GaussianNB\n",
    "from sklearn.preprocessing import LabelEncoder\n",
    "from sklearn.metrics import accuracy_score, confusion_matrix\n",
    "\n",
    "# Data arrays\n",
    "age = [\"youth\", \"youth\", \"youth\", \"middle_aged\", \"senior\", \"senior\", \"middle_aged\", \"youth\", \"youth\", \"senior\", \"senior\", \"middle_aged\", \"middle_aged\", \"youth\"]\n",
    "income = [\"high\", \"high\", \"high\", \"high\", \"medium\", \"low\", \"low\", \"medium\", \"low\", \"low\", \"medium\", \"low\", \"high\", \"medium\"]\n",
    "student = [\"no\", \"no\", \"yes\", \"no\", \"no\", \"yes\", \"yes\", \"no\", \"yes\", \"yes\", \"yes\", \"yes\", \"yes\", \"yes\"]\n",
    "credit_rating = [\"fair\", \"excellent\", \"fair\", \"fair\", \"fair\", \"fair\", \"excellent\", \"excellent\", \"fair\", \"fair\", \"fair\", \"excellent\", \"excellent\", \"excellent\"]\n",
    "buys_computer = [\"no\", \"no\", \"yes\", \"no\", \"yes\", \"yes\", \"yes\", \"no\", \"yes\", \"yes\", \"yes\", \"yes\", \"yes\", \"yes\"]\n",
    "\n",
    "# Initialize LabelEncoder for each feature and label\n",
    "le_age = LabelEncoder()\n",
    "le_income = LabelEncoder()\n",
    "le_student = LabelEncoder()\n",
    "le_credit_rating = LabelEncoder()\n",
    "le_buys_computer = LabelEncoder()\n",
    "\n",
    "# Encode the features and the target variable\n",
    "age_encoded = le_age.fit_transform(age)\n",
    "income_encoded = le_income.fit_transform(income)\n",
    "student_encoded = le_student.fit_transform(student)\n",
    "credit_rating_encoded = le_credit_rating.fit_transform(credit_rating)\n",
    "buys_computer_encoded = le_buys_computer.fit_transform(buys_computer)\n",
    "\n",
    "# Prepare the features (age, income, student, credit_rating) and labels (buys_computer)\n",
    "features = list(zip(age_encoded, income_encoded, student_encoded, credit_rating_encoded))\n",
    "labels = buys_computer_encoded\n",
    "\n",
    "# Split the data into training and testing sets (80% train, 20% test)\n",
    "features_train, features_test, label_train, label_test = train_test_split(features, labels, test_size=0.2, random_state=42)\n",
    "\n",
    "# Initialize the Gaussian Naive Bayes classifier\n",
    "model = GaussianNB()\n",
    "\n",
    "# Train the model\n",
    "model.fit(features_train, label_train)\n",
    "\n",
    "# Make predictions\n",
    "predicted = model.predict(features_test)\n",
    "\n",
    "# Output predictions\n",
    "print(\"Prediction:\", predicted)\n",
    "\n",
    "# Confusion Matrix\n",
    "conf_mat = confusion_matrix(label_test, predicted)\n",
    "print(\"\\nConfusion Matrix:\")\n",
    "print(conf_mat)\n",
    "\n",
    "# Accuracy Score\n",
    "accuracy = accuracy_score(label_test, predicted)\n",
    "print(\"\\nAccuracy:\", accuracy)"
   ]
  },
  {
   "cell_type": "code",
   "execution_count": null,
   "id": "f2691744-d4c3-41b3-9bc7-360e45fac0ab",
   "metadata": {},
   "outputs": [],
   "source": []
  }
 ],
 "metadata": {
  "kernelspec": {
   "display_name": "Python 3 (ipykernel)",
   "language": "python",
   "name": "python3"
  },
  "language_info": {
   "codemirror_mode": {
    "name": "ipython",
    "version": 3
   },
   "file_extension": ".py",
   "mimetype": "text/x-python",
   "name": "python",
   "nbconvert_exporter": "python",
   "pygments_lexer": "ipython3",
   "version": "3.12.7"
  }
 },
 "nbformat": 4,
 "nbformat_minor": 5
}
