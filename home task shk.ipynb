{
 "cells": [
  {
   "cell_type": "code",
   "execution_count": 1,
   "id": "8fe820c4-18d9-434f-b17d-7e784d19b020",
   "metadata": {},
   "outputs": [
    {
     "name": "stdout",
     "output_type": "stream",
     "text": [
      "Predicted Labels: ['Orange' 'Apple' 'Orange']\n",
      "\n",
      "Confusion Matrix:\n",
      "[[1 0]\n",
      " [0 2]]\n",
      "\n",
      "Accuracy: 1.0\n"
     ]
    }
   ],
   "source": [
    "import numpy as np\n",
    "from sklearn.model_selection import train_test_split\n",
    "from sklearn.naive_bayes import GaussianNB\n",
    "from sklearn.preprocessing import LabelEncoder\n",
    "from sklearn.metrics import confusion_matrix, accuracy_score\n",
    "from sklearn import preprocessing\n",
    "\n",
    "# Data for color, size, and fruit\n",
    "color = ['Red', 'Red', 'Orange', 'Red', 'Orange', 'Orange', 'Red', 'Red', 'Orange', 'Red']\n",
    "size = ['Small', 'Medium', 'Medium', 'Large', 'Small', 'Medium', 'Large', 'Small', 'Medium', 'Large']\n",
    "fruit = ['Apple', 'Apple', 'Orange', 'Apple', 'Orange', 'Orange', 'Apple', 'Apple', 'Orange', 'Apple']\n",
    "\n",
    "# Initialize LabelEncoder\n",
    "le_color = preprocessing.LabelEncoder()\n",
    "le_size = preprocessing.LabelEncoder()\n",
    "le_fruit = preprocessing.LabelEncoder()\n",
    "\n",
    "# Encode the labels\n",
    "color_encoded = le_color.fit_transform(color)\n",
    "size_encoded = le_size.fit_transform(size)\n",
    "fruit_encoded = le_fruit.fit_transform(fruit)\n",
    "\n",
    "# Prepare features (color, size) and labels (fruit)\n",
    "features = list(zip(color_encoded, size_encoded))\n",
    "\n",
    "# Split data into training and testing sets (70% train, 30% test)\n",
    "features_train, features_test, label_train, label_test = train_test_split(\n",
    "    features, fruit_encoded, test_size=0.3, random_state=42\n",
    ")\n",
    "\n",
    "# Initialize the Naive Bayes model\n",
    "model = GaussianNB()\n",
    "\n",
    "# Train the model\n",
    "model.fit(features_train, label_train)\n",
    "\n",
    "# Make predictions\n",
    "predicted = model.predict(features_test)\n",
    "\n",
    "# Output predictions\n",
    "print(\"Predicted Labels:\", le_fruit.inverse_transform(predicted))\n",
    "\n",
    "# Confusion Matrix\n",
    "conf_mat = confusion_matrix(label_test, predicted)\n",
    "print(\"\\nConfusion Matrix:\")\n",
    "print(conf_mat)\n",
    "\n",
    "# Accuracy Score\n",
    "accuracy = accuracy_score(label_test, predicted)\n",
    "print(\"\\nAccuracy:\", accuracy)\n"
   ]
  },
  {
   "cell_type": "code",
   "execution_count": null,
   "id": "c6a9d4a6-717d-42f6-bd88-47fa94b35491",
   "metadata": {},
   "outputs": [],
   "source": []
  }
 ],
 "metadata": {
  "kernelspec": {
   "display_name": "Python 3 (ipykernel)",
   "language": "python",
   "name": "python3"
  },
  "language_info": {
   "codemirror_mode": {
    "name": "ipython",
    "version": 3
   },
   "file_extension": ".py",
   "mimetype": "text/x-python",
   "name": "python",
   "nbconvert_exporter": "python",
   "pygments_lexer": "ipython3",
   "version": "3.12.7"
  }
 },
 "nbformat": 4,
 "nbformat_minor": 5
}
